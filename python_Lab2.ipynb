{
 "cells": [
  {
   "cell_type": "code",
   "execution_count": 9,
   "id": "399ca56b",
   "metadata": {},
   "outputs": [
    {
     "name": "stdout",
     "output_type": "stream",
     "text": [
      "I recommended it, It is good\n"
     ]
    }
   ],
   "source": [
    "movie = \"attack on titan\"\n",
    "movieRate = 3\n",
    "moviePop = 72.56\n",
    "if movieRate >= 4 and moviePop > 80:\n",
    "    print(\"Highly recommended\")\n",
    "elif movieRate >= 3 and moviePop > 70:\n",
    "    print(\"I recommended it, It is good\")\n",
    "elif movieRate <= 2 and moviePop > 60 :\n",
    "    print(\"You should check it out!\")\n",
    "elif movieRate <= 2 and moviePop < 50 :\n",
    "    print(\"Don't watch it, It is a waste of time\")\n",
    "else :\n",
    "    print (\"It's your call\")"
   ]
  }
 ],
 "metadata": {
  "kernelspec": {
   "display_name": "Python 3 (ipykernel)",
   "language": "python",
   "name": "python3"
  },
  "language_info": {
   "codemirror_mode": {
    "name": "ipython",
    "version": 3
   },
   "file_extension": ".py",
   "mimetype": "text/x-python",
   "name": "python",
   "nbconvert_exporter": "python",
   "pygments_lexer": "ipython3",
   "version": "3.11.4"
  }
 },
 "nbformat": 4,
 "nbformat_minor": 5
}
